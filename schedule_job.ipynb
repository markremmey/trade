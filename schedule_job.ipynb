{
 "cells": [
  {
   "cell_type": "code",
   "execution_count": 1,
   "metadata": {},
   "outputs": [
    {
     "name": "stdout",
     "output_type": "stream",
     "text": [
      "Collecting schedule\n",
      "  Downloading schedule-1.1.0-py2.py3-none-any.whl (10 kB)\n",
      "Installing collected packages: schedule\n",
      "Successfully installed schedule-1.1.0\n",
      "Note: you may need to restart the kernel to use updated packages.\n"
     ]
    }
   ],
   "source": [
    "pip install schedule"
   ]
  },
  {
   "cell_type": "code",
   "execution_count": 3,
   "metadata": {},
   "outputs": [],
   "source": [
    "import schedule\n",
    "import time"
   ]
  },
  {
   "cell_type": "code",
   "execution_count": 9,
   "metadata": {},
   "outputs": [
    {
     "name": "stdout",
     "output_type": "stream",
     "text": [
      "I'm working\n",
      "Hello from the background thread\n",
      "I'm working\n"
     ]
    }
   ],
   "source": [
    "import threading\n",
    "import time\n",
    "\n",
    "import schedule\n",
    "\n",
    "\n",
    "def run_continuously(interval=1):\n",
    "    \"\"\"Continuously run, while executing pending jobs at each\n",
    "    elapsed time interval.\n",
    "    @return cease_continuous_run: threading. Event which can\n",
    "    be set to cease continuous run. Please note that it is\n",
    "    *intended behavior that run_continuously() does not run\n",
    "    missed jobs*. For example, if you've registered a job that\n",
    "    should run every minute and you set a continuous run\n",
    "    interval of one hour then your job won't be run 60 times\n",
    "    at each interval but only once.\n",
    "    \"\"\"\n",
    "    cease_continuous_run = threading.Event()\n",
    "\n",
    "    class ScheduleThread(threading.Thread):\n",
    "        @classmethod\n",
    "        def run(cls):\n",
    "            while not cease_continuous_run.is_set():\n",
    "                schedule.run_pending()\n",
    "                time.sleep(interval)\n",
    "\n",
    "    continuous_thread = ScheduleThread()\n",
    "    continuous_thread.start()\n",
    "    return cease_continuous_run\n",
    "\n",
    "\n",
    "def background_job():\n",
    "    print('Hello from the background thread')\n",
    "\n",
    "\n",
    "schedule.every(5).seconds.do(background_job)\n",
    "\n",
    "# Start the background thread\n",
    "stop_run_continuously = run_continuously()\n",
    "\n",
    "# Do some other things...\n",
    "time.sleep(10)\n",
    "\n",
    "# Stop the background thread\n",
    "stop_run_continuously.set()"
   ]
  },
  {
   "cell_type": "code",
   "execution_count": 7,
   "metadata": {},
   "outputs": [
    {
     "name": "stdout",
     "output_type": "stream",
     "text": [
      "Help on class Event in module threading:\n",
      "\n",
      "class Event(builtins.object)\n",
      " |  Class implementing event objects.\n",
      " |  \n",
      " |  Events manage a flag that can be set to true with the set() method and reset\n",
      " |  to false with the clear() method. The wait() method blocks until the flag is\n",
      " |  true.  The flag is initially false.\n",
      " |  \n",
      " |  Methods defined here:\n",
      " |  \n",
      " |  __init__(self)\n",
      " |      Initialize self.  See help(type(self)) for accurate signature.\n",
      " |  \n",
      " |  clear(self)\n",
      " |      Reset the internal flag to false.\n",
      " |      \n",
      " |      Subsequently, threads calling wait() will block until set() is called to\n",
      " |      set the internal flag to true again.\n",
      " |  \n",
      " |  isSet = is_set(self)\n",
      " |  \n",
      " |  is_set(self)\n",
      " |      Return true if and only if the internal flag is true.\n",
      " |  \n",
      " |  set(self)\n",
      " |      Set the internal flag to true.\n",
      " |      \n",
      " |      All threads waiting for it to become true are awakened. Threads\n",
      " |      that call wait() once the flag is true will not block at all.\n",
      " |  \n",
      " |  wait(self, timeout=None)\n",
      " |      Block until the internal flag is true.\n",
      " |      \n",
      " |      If the internal flag is true on entry, return immediately. Otherwise,\n",
      " |      block until another thread calls set() to set the flag to true, or until\n",
      " |      the optional timeout occurs.\n",
      " |      \n",
      " |      When the timeout argument is present and not None, it should be a\n",
      " |      floating point number specifying a timeout for the operation in seconds\n",
      " |      (or fractions thereof).\n",
      " |      \n",
      " |      This method returns the internal flag on exit, so it will always return\n",
      " |      True except if a timeout is given and the operation times out.\n",
      " |  \n",
      " |  ----------------------------------------------------------------------\n",
      " |  Data descriptors defined here:\n",
      " |  \n",
      " |  __dict__\n",
      " |      dictionary for instance variables (if defined)\n",
      " |  \n",
      " |  __weakref__\n",
      " |      list of weak references to the object (if defined)\n",
      "\n"
     ]
    }
   ],
   "source": [
    "import threading\n",
    "help(threading.Event)"
   ]
  },
  {
   "cell_type": "code",
   "execution_count": null,
   "metadata": {},
   "outputs": [],
   "source": []
  }
 ],
 "metadata": {
  "kernelspec": {
   "display_name": "Python 3.9.12 ('base')",
   "language": "python",
   "name": "python3"
  },
  "language_info": {
   "codemirror_mode": {
    "name": "ipython",
    "version": 3
   },
   "file_extension": ".py",
   "mimetype": "text/x-python",
   "name": "python",
   "nbconvert_exporter": "python",
   "pygments_lexer": "ipython3",
   "version": "3.9.12"
  },
  "orig_nbformat": 4,
  "vscode": {
   "interpreter": {
    "hash": "46dd97e52c848eae8e80544b1c845a7f99aa5cd1c20a2cd1aae8aa4f5e9f9684"
   }
  }
 },
 "nbformat": 4,
 "nbformat_minor": 2
}
