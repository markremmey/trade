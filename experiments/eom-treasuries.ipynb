{
 "cells": [
  {
   "attachments": {},
   "cell_type": "markdown",
   "metadata": {},
   "source": [
    "## T-Bill Data Exploration\n",
    "\n",
    "https://www.youtube.com/watch?v=Nbq5eyVk-0w&t=3407s\n",
    "\n",
    "Purpose of this notebook is to determine if T Bills post higher returns at the end of each month."
   ]
  },
  {
   "attachments": {},
   "cell_type": "markdown",
   "metadata": {},
   "source": [
    "Import Libraries"
   ]
  },
  {
   "cell_type": "code",
   "execution_count": 71,
   "metadata": {},
   "outputs": [],
   "source": [
    "import matplotlib.pyplot as plt\n",
    "import pandas as pd\n",
    "import yfinance as yf"
   ]
  },
  {
   "attachments": {},
   "cell_type": "markdown",
   "metadata": {},
   "source": [
    "Store TLT values to a dataframe\n",
    "\n",
    "stock.history(period='1mo', start=None, end=None)"
   ]
  },
  {
   "cell_type": "code",
   "execution_count": 65,
   "metadata": {},
   "outputs": [],
   "source": [
    "ticker = \"TLT\"\n",
    "\n",
    "stock = yf.Ticker(ticker)\n",
    "df = stock.history(period='20y', start=None, end=None)"
   ]
  },
  {
   "attachments": {},
   "cell_type": "markdown",
   "metadata": {},
   "source": [
    "Add column for the % Return of each day"
   ]
  },
  {
   "cell_type": "code",
   "execution_count": 67,
   "metadata": {},
   "outputs": [
    {
     "data": {
      "text/html": [
       "<div>\n",
       "<style scoped>\n",
       "    .dataframe tbody tr th:only-of-type {\n",
       "        vertical-align: middle;\n",
       "    }\n",
       "\n",
       "    .dataframe tbody tr th {\n",
       "        vertical-align: top;\n",
       "    }\n",
       "\n",
       "    .dataframe thead th {\n",
       "        text-align: right;\n",
       "    }\n",
       "</style>\n",
       "<table border=\"1\" class=\"dataframe\">\n",
       "  <thead>\n",
       "    <tr style=\"text-align: right;\">\n",
       "      <th></th>\n",
       "      <th>Open</th>\n",
       "      <th>High</th>\n",
       "      <th>Low</th>\n",
       "      <th>Close</th>\n",
       "      <th>Volume</th>\n",
       "      <th>Dividends</th>\n",
       "      <th>Stock Splits</th>\n",
       "      <th>Capital Gains</th>\n",
       "      <th>Return</th>\n",
       "    </tr>\n",
       "    <tr>\n",
       "      <th>Date</th>\n",
       "      <th></th>\n",
       "      <th></th>\n",
       "      <th></th>\n",
       "      <th></th>\n",
       "      <th></th>\n",
       "      <th></th>\n",
       "      <th></th>\n",
       "      <th></th>\n",
       "      <th></th>\n",
       "    </tr>\n",
       "  </thead>\n",
       "  <tbody>\n",
       "    <tr>\n",
       "      <th>2003-01-07 00:00:00-05:00</th>\n",
       "      <td>44.575466</td>\n",
       "      <td>44.865084</td>\n",
       "      <td>44.565120</td>\n",
       "      <td>44.766819</td>\n",
       "      <td>69800</td>\n",
       "      <td>0.0</td>\n",
       "      <td>0.0</td>\n",
       "      <td>0.0</td>\n",
       "      <td>NaN</td>\n",
       "    </tr>\n",
       "    <tr>\n",
       "      <th>2003-01-08 00:00:00-05:00</th>\n",
       "      <td>44.932338</td>\n",
       "      <td>45.066805</td>\n",
       "      <td>44.880621</td>\n",
       "      <td>44.989227</td>\n",
       "      <td>160100</td>\n",
       "      <td>0.0</td>\n",
       "      <td>0.0</td>\n",
       "      <td>0.0</td>\n",
       "      <td>0.004944</td>\n",
       "    </tr>\n",
       "    <tr>\n",
       "      <th>2003-01-09 00:00:00-05:00</th>\n",
       "      <td>44.565168</td>\n",
       "      <td>44.565168</td>\n",
       "      <td>43.970414</td>\n",
       "      <td>44.125568</td>\n",
       "      <td>237500</td>\n",
       "      <td>0.0</td>\n",
       "      <td>0.0</td>\n",
       "      <td>0.0</td>\n",
       "      <td>-0.019573</td>\n",
       "    </tr>\n",
       "    <tr>\n",
       "      <th>2003-01-10 00:00:00-05:00</th>\n",
       "      <td>44.435852</td>\n",
       "      <td>44.435852</td>\n",
       "      <td>44.022113</td>\n",
       "      <td>44.239326</td>\n",
       "      <td>145200</td>\n",
       "      <td>0.0</td>\n",
       "      <td>0.0</td>\n",
       "      <td>0.0</td>\n",
       "      <td>0.002571</td>\n",
       "    </tr>\n",
       "    <tr>\n",
       "      <th>2003-01-13 00:00:00-05:00</th>\n",
       "      <td>44.239321</td>\n",
       "      <td>44.409991</td>\n",
       "      <td>44.166917</td>\n",
       "      <td>44.311726</td>\n",
       "      <td>53300</td>\n",
       "      <td>0.0</td>\n",
       "      <td>0.0</td>\n",
       "      <td>0.0</td>\n",
       "      <td>0.001634</td>\n",
       "    </tr>\n",
       "  </tbody>\n",
       "</table>\n",
       "</div>"
      ],
      "text/plain": [
       "                                Open       High        Low      Close  Volume  \\\n",
       "Date                                                                            \n",
       "2003-01-07 00:00:00-05:00  44.575466  44.865084  44.565120  44.766819   69800   \n",
       "2003-01-08 00:00:00-05:00  44.932338  45.066805  44.880621  44.989227  160100   \n",
       "2003-01-09 00:00:00-05:00  44.565168  44.565168  43.970414  44.125568  237500   \n",
       "2003-01-10 00:00:00-05:00  44.435852  44.435852  44.022113  44.239326  145200   \n",
       "2003-01-13 00:00:00-05:00  44.239321  44.409991  44.166917  44.311726   53300   \n",
       "\n",
       "                           Dividends  Stock Splits  Capital Gains    Return  \n",
       "Date                                                                         \n",
       "2003-01-07 00:00:00-05:00        0.0           0.0            0.0       NaN  \n",
       "2003-01-08 00:00:00-05:00        0.0           0.0            0.0  0.004944  \n",
       "2003-01-09 00:00:00-05:00        0.0           0.0            0.0 -0.019573  \n",
       "2003-01-10 00:00:00-05:00        0.0           0.0            0.0  0.002571  \n",
       "2003-01-13 00:00:00-05:00        0.0           0.0            0.0  0.001634  "
      ]
     },
     "execution_count": 67,
     "metadata": {},
     "output_type": "execute_result"
    }
   ],
   "source": [
    "df[\"Return\"] = (df['Close'] - df['Close'].shift(1))/df['Close']\n",
    "\n",
    "df.style.format({\n",
    "    'Return': '{:,.2%}'.format,\n",
    "});\n",
    "\n",
    "df.head()"
   ]
  },
  {
   "attachments": {},
   "cell_type": "markdown",
   "metadata": {},
   "source": [
    "Group data by day of month"
   ]
  },
  {
   "cell_type": "code",
   "execution_count": 72,
   "metadata": {},
   "outputs": [],
   "source": [
    "groupedByDay = df.groupby([df.index.day]).mean()"
   ]
  },
  {
   "cell_type": "code",
   "execution_count": 74,
   "metadata": {},
   "outputs": [
    {
     "data": {
      "text/html": [
       "<div>\n",
       "<style scoped>\n",
       "    .dataframe tbody tr th:only-of-type {\n",
       "        vertical-align: middle;\n",
       "    }\n",
       "\n",
       "    .dataframe tbody tr th {\n",
       "        vertical-align: top;\n",
       "    }\n",
       "\n",
       "    .dataframe thead th {\n",
       "        text-align: right;\n",
       "    }\n",
       "</style>\n",
       "<table border=\"1\" class=\"dataframe\">\n",
       "  <thead>\n",
       "    <tr style=\"text-align: right;\">\n",
       "      <th></th>\n",
       "      <th>Open</th>\n",
       "      <th>High</th>\n",
       "      <th>Low</th>\n",
       "      <th>Close</th>\n",
       "      <th>Volume</th>\n",
       "      <th>Dividends</th>\n",
       "      <th>Stock Splits</th>\n",
       "      <th>Capital Gains</th>\n",
       "      <th>Return</th>\n",
       "    </tr>\n",
       "    <tr>\n",
       "      <th>Date</th>\n",
       "      <th></th>\n",
       "      <th></th>\n",
       "      <th></th>\n",
       "      <th></th>\n",
       "      <th></th>\n",
       "      <th></th>\n",
       "      <th></th>\n",
       "      <th></th>\n",
       "      <th></th>\n",
       "    </tr>\n",
       "  </thead>\n",
       "  <tbody>\n",
       "    <tr>\n",
       "      <th>1</th>\n",
       "      <td>90.084485</td>\n",
       "      <td>90.575496</td>\n",
       "      <td>89.615676</td>\n",
       "      <td>90.170395</td>\n",
       "      <td>9.450070e+06</td>\n",
       "      <td>0.285845</td>\n",
       "      <td>0.0</td>\n",
       "      <td>0.0</td>\n",
       "      <td>-0.000179</td>\n",
       "    </tr>\n",
       "    <tr>\n",
       "      <th>2</th>\n",
       "      <td>89.510408</td>\n",
       "      <td>89.931552</td>\n",
       "      <td>89.108541</td>\n",
       "      <td>89.510206</td>\n",
       "      <td>7.426431e+06</td>\n",
       "      <td>0.057442</td>\n",
       "      <td>0.0</td>\n",
       "      <td>0.0</td>\n",
       "      <td>-0.000676</td>\n",
       "    </tr>\n",
       "    <tr>\n",
       "      <th>3</th>\n",
       "      <td>89.086435</td>\n",
       "      <td>89.575333</td>\n",
       "      <td>88.660192</td>\n",
       "      <td>89.112159</td>\n",
       "      <td>8.397238e+06</td>\n",
       "      <td>0.053091</td>\n",
       "      <td>0.0</td>\n",
       "      <td>0.0</td>\n",
       "      <td>-0.001255</td>\n",
       "    </tr>\n",
       "    <tr>\n",
       "      <th>4</th>\n",
       "      <td>90.022634</td>\n",
       "      <td>90.389170</td>\n",
       "      <td>89.596987</td>\n",
       "      <td>90.004275</td>\n",
       "      <td>7.833304e+06</td>\n",
       "      <td>0.005808</td>\n",
       "      <td>0.0</td>\n",
       "      <td>0.0</td>\n",
       "      <td>0.000133</td>\n",
       "    </tr>\n",
       "    <tr>\n",
       "      <th>5</th>\n",
       "      <td>89.015384</td>\n",
       "      <td>89.367320</td>\n",
       "      <td>88.566035</td>\n",
       "      <td>88.935078</td>\n",
       "      <td>7.893688e+06</td>\n",
       "      <td>0.000000</td>\n",
       "      <td>0.0</td>\n",
       "      <td>0.0</td>\n",
       "      <td>-0.002875</td>\n",
       "    </tr>\n",
       "  </tbody>\n",
       "</table>\n",
       "</div>"
      ],
      "text/plain": [
       "           Open       High        Low      Close        Volume  Dividends  \\\n",
       "Date                                                                        \n",
       "1     90.084485  90.575496  89.615676  90.170395  9.450070e+06   0.285845   \n",
       "2     89.510408  89.931552  89.108541  89.510206  7.426431e+06   0.057442   \n",
       "3     89.086435  89.575333  88.660192  89.112159  8.397238e+06   0.053091   \n",
       "4     90.022634  90.389170  89.596987  90.004275  7.833304e+06   0.005808   \n",
       "5     89.015384  89.367320  88.566035  88.935078  7.893688e+06   0.000000   \n",
       "\n",
       "      Stock Splits  Capital Gains    Return  \n",
       "Date                                         \n",
       "1              0.0            0.0 -0.000179  \n",
       "2              0.0            0.0 -0.000676  \n",
       "3              0.0            0.0 -0.001255  \n",
       "4              0.0            0.0  0.000133  \n",
       "5              0.0            0.0 -0.002875  "
      ]
     },
     "execution_count": 74,
     "metadata": {},
     "output_type": "execute_result"
    }
   ],
   "source": [
    "groupedByDay.head()"
   ]
  },
  {
   "attachments": {},
   "cell_type": "markdown",
   "metadata": {},
   "source": [
    "Plot a Bar chart showing the returns by day of month"
   ]
  },
  {
   "cell_type": "code",
   "execution_count": 77,
   "metadata": {},
   "outputs": [
    {
     "data": {
      "text/plain": [
       "Text(0.5, 1.0, 'Mean close-toclose TLT returns by day of week 2013-2023')"
      ]
     },
     "execution_count": 77,
     "metadata": {},
     "output_type": "execute_result"
    },
    {
     "data": {
      "image/png": "[encoded data removed]",
      "text/plain": [
       "<Figure size 1000x500 with 1 Axes>"
      ]
     },
     "metadata": {},
     "output_type": "display_data"
    }
   ],
   "source": [
    "fig = plt.figure(figsize = (10,5))\n",
    "\n",
    "plt.bar(groupedByDay.index, groupedByDay[\"Return\"])\n",
    "\n",
    "plt.xlabel(\"Mean Return\")\n",
    "plt.ylabel(\"Returns\")\n",
    "plt.title(\"Mean close-toclose TLT returns by day of week 2013-2023\")"
   ]
  },
  {
   "attachments": {},
   "cell_type": "markdown",
   "metadata": {},
   "source": [
    "## To do\n",
    "- Show the relationship between stock performance in a given month and the TLT returns\n",
    "- Evaluate the results of a trading strategy that capitalizes on this effect"
   ]
  },
  {
   "cell_type": "code",
   "execution_count": 14,
   "metadata": {},
   "outputs": [
    {
     "name": "stdout",
     "output_type": "stream",
     "text": [
      "Help on method history in module yfinance.base:\n",
      "\n",
      "history(period='1mo', interval='1d', start=None, end=None, prepost=False, actions=True, auto_adjust=True, back_adjust=False, repair=False, keepna=False, proxy=None, rounding=False, timeout=10, debug=True, raise_errors=False) -> pandas.core.frame.DataFrame method of yfinance.ticker.Ticker instance\n",
      "    :Parameters:\n",
      "        period : str\n",
      "            Valid periods: 1d,5d,1mo,3mo,6mo,1y,2y,5y,10y,ytd,max\n",
      "            Either Use period parameter or use start and end\n",
      "        interval : str\n",
      "            Valid intervals: 1m,2m,5m,15m,30m,60m,90m,1h,1d,5d,1wk,1mo,3mo\n",
      "            Intraday data cannot extend last 60 days\n",
      "        start: str\n",
      "            Download start date string (YYYY-MM-DD) or _datetime.\n",
      "            Default is 1900-01-01\n",
      "        end: str\n",
      "            Download end date string (YYYY-MM-DD) or _datetime.\n",
      "            Default is now\n",
      "        prepost : bool\n",
      "            Include Pre and Post market data in results?\n",
      "            Default is False\n",
      "        auto_adjust: bool\n",
      "            Adjust all OHLC automatically? Default is True\n",
      "        back_adjust: bool\n",
      "            Back-adjusted data to mimic true historical prices\n",
      "        repair: bool\n",
      "            Detect currency unit 100x mixups and attempt repair\n",
      "            Default is False\n",
      "        keepna: bool\n",
      "            Keep NaN rows returned by Yahoo?\n",
      "            Default is False\n",
      "        proxy: str\n",
      "            Optional. Proxy server URL scheme. Default is None\n",
      "        rounding: bool\n",
      "            Round values to 2 decimal places?\n",
      "            Optional. Default is False = precision suggested by Yahoo!\n",
      "        timeout: None or float\n",
      "            If not None stops waiting for a response after given number of\n",
      "            seconds. (Can also be a fraction of a second e.g. 0.01)\n",
      "            Default is 10 seconds.\n",
      "        debug: bool\n",
      "            If passed as False, will suppress\n",
      "            error message printing to console.\n",
      "        raise_errors: bool\n",
      "            If True, then raise errors as\n",
      "            exceptions instead of printing to console.\n",
      "\n"
     ]
    }
   ],
   "source": [
    "help(stock.history)"
   ]
  },
  {
   "cell_type": "code",
   "execution_count": null,
   "metadata": {},
   "outputs": [],
   "source": []
  }
 ],
 "metadata": {
  "kernelspec": {
   "display_name": "Python 3",
   "language": "python",
   "name": "python3"
  },
  "language_info": {
   "codemirror_mode": {
    "name": "ipython",
    "version": 3
   },
   "file_extension": ".py",
   "mimetype": "text/x-python",
   "name": "python",
   "nbconvert_exporter": "python",
   "pygments_lexer": "ipython3",
   "version": "3.10.6 (tags/v3.10.6:9c7b4bd, Aug  1 2022, 21:53:49) [MSC v.1932 64 bit (AMD64)]"
  },
  "orig_nbformat": 4,
  "vscode": {
   "interpreter": {
    "hash": "369f2c481f4da34e4445cda3fffd2e751bd1c4d706f27375911949ba6bb62e1c"
   }
  }
 },
 "nbformat": 4,
 "nbformat_minor": 2
}
